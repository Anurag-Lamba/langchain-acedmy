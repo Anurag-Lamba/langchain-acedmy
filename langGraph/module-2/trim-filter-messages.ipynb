{
 "cells": [
  {
   "cell_type": "markdown",
   "id": "fb0ebaf1",
   "metadata": {},
   "source": [
    "[![Open in Colab](https://colab.research.google.com/assets/colab-badge.svg)](https://colab.research.google.com/github/langchain-ai/langchain-academy/blob/main/module-2/trim-filter-messages.ipynb) [![Open in LangChain Academy](https://cdn.prod.website-files.com/65b8cd72835ceeacd4449a53/66e9eba12c7b7688aa3dbb5e_LCA-badge-green.svg)](https://academy.langchain.com/courses/take/intro-to-langgraph/lessons/58239435-lesson-4-trim-and-filter-messages)"
   ]
  },
  {
   "cell_type": "markdown",
   "id": "c52ea2f9-03ff-4647-b782-46867ebed04e",
   "metadata": {},
   "source": [
    "# Filtering and trimming messages\n",
    "\n",
    "## Review\n",
    "\n",
    "Now, we have a deeper understanding of a few things: \n",
    "\n",
    "* How to customize the graph state schema\n",
    "* How to define custom state reducers\n",
    "* How to use multiple graph state schemas\n",
    "\n",
    "## Goals\n",
    "\n",
    "Now, we can start using these concepts with models in LangGraph!\n",
    " \n",
    "In the next few sessions, we'll build towards a chatbot that has long-term memory.\n",
    "\n",
    "Because our chatbot will use messages, let's first talk a bit more about advanced ways to work with messages in graph state."
   ]
  },
  {
   "cell_type": "code",
   "execution_count": 1,
   "id": "d5197aba-5d46-421b-ae3b-4e3034edcfda",
   "metadata": {},
   "outputs": [],
   "source": [
    "%%capture --no-stderr\n",
    "%pip install --quiet -U langchain_core langgraph langchain_openai"
   ]
  },
  {
   "cell_type": "code",
   "execution_count": 2,
   "id": "768dc606-d5f2-468d-96ea-910b264e0f8a",
   "metadata": {},
   "outputs": [],
   "source": [
    "# import os, getpass\n",
    "\n",
    "# def _set_env(var: str):\n",
    "#     if not os.environ.get(var):\n",
    "#         os.environ[var] = getpass.getpass(f\"{var}: \")\n",
    "\n",
    "# _set_env(\"OPENAI_API_KEY\")"
   ]
  },
  {
   "cell_type": "code",
   "execution_count": 3,
   "id": "8a5274c3",
   "metadata": {},
   "outputs": [],
   "source": [
    "import os\n",
    "from dotenv import load_dotenv\n",
    "load_dotenv()\n",
    "\n",
    "GROQ_API_KEY=os.getenv(\"GROQ_API_KEY\")"
   ]
  },
  {
   "cell_type": "markdown",
   "id": "8b64d8d3-e4ac-4961-bdc0-688825eb5864",
   "metadata": {},
   "source": [
    "We'll use [LangSmith](https://docs.smith.langchain.com/) for [tracing](https://docs.smith.langchain.com/concepts/tracing).\n",
    "\n",
    "We'll log to a project, `langchain-academy`. "
   ]
  },
  {
   "cell_type": "code",
   "execution_count": 4,
   "id": "dd020c79",
   "metadata": {},
   "outputs": [],
   "source": [
    "# _set_env(\"LANGSMITH_API_KEY\")\n",
    "# os.environ[\"LANGSMITH_TRACING\"] = \"true\"\n",
    "# os.environ[\"LANGSMITH_PROJECT\"] = \"langchain-academy\""
   ]
  },
  {
   "cell_type": "markdown",
   "id": "72f3fc90-58b6-4f7f-897e-dddf6ae532c7",
   "metadata": {},
   "source": [
    "## Messages as state\n",
    "\n",
    "First, let's define some messages."
   ]
  },
  {
   "cell_type": "code",
   "execution_count": 5,
   "id": "cf11a463-e27a-4a05-b41d-64882e38edca",
   "metadata": {},
   "outputs": [
    {
     "name": "stdout",
     "output_type": "stream",
     "text": [
      "==================================\u001b[1m Ai Message \u001b[0m==================================\n",
      "Name: Bot\n",
      "\n",
      "So you said you were researching ocean mammals?\n",
      "================================\u001b[1m Human Message \u001b[0m=================================\n",
      "Name: Lance\n",
      "\n",
      "Yes, I know about whales. But what others should I learn about?\n"
     ]
    }
   ],
   "source": [
    "from pprint import pprint\n",
    "from langchain_core.messages import AIMessage, HumanMessage\n",
    "messages = [AIMessage(f\"So you said you were researching ocean mammals?\", name=\"Bot\")]\n",
    "messages.append(HumanMessage(f\"Yes, I know about whales. But what others should I learn about?\", name=\"Lance\"))\n",
    "\n",
    "for m in messages:\n",
    "    m.pretty_print()"
   ]
  },
  {
   "cell_type": "markdown",
   "id": "b814adcb-6bf9-4b75-be11-e59f933fbd0c",
   "metadata": {},
   "source": [
    "Recall we can pass them to a chat model."
   ]
  },
  {
   "cell_type": "code",
   "execution_count": 6,
   "id": "4712e288-e622-48a2-ad3f-a52f65f3ab08",
   "metadata": {},
   "outputs": [
    {
     "name": "stderr",
     "output_type": "stream",
     "text": [
      "e:\\langchain-acedmy\\venv\\Lib\\site-packages\\tqdm\\auto.py:21: TqdmWarning: IProgress not found. Please update jupyter and ipywidgets. See https://ipywidgets.readthedocs.io/en/stable/user_install.html\n",
      "  from .autonotebook import tqdm as notebook_tqdm\n",
      "None of PyTorch, TensorFlow >= 2.0, or Flax have been found. Models won't be available and only tokenizers, configuration and file/data utilities can be used.\n"
     ]
    },
    {
     "data": {
      "text/plain": [
       "AIMessage(content='That\\'s great! Whales are definitely fascinating. \\n\\nBeyond whales, there\\'s a whole world of amazing ocean mammals to explore! Here are some suggestions, categorized for easier diving in:\\n\\n**Pinnipeds (seals, sea lions, and walruses):**\\n\\n* **Harbor seals:**  Playful and curious, they\\'re often seen in coastal waters.\\n* **Elephant seals:** Huge and powerful, with males reaching enormous sizes.\\n* **California sea lions:**  Known for their barking calls and agility.\\n* **Walruses:**  With their impressive tusks and blubbery bodies, they\\'re adapted to cold Arctic waters.\\n\\n**Otters:**\\n\\n* **Sea otters:**  The smallest marine mammal, with dense fur and a love for shellfish.  \\n* **Giant otters:** The largest member of the weasel family, living in South America\\'s rivers.\\n\\n**Other fascinating ocean mammals:**\\n\\n* **Manatees:** Gentle giants, often called \"sea cows,\" grazing on seagrass.\\n* **Dolphins:** Highly intelligent and social, with various species found worldwide.\\n* **Polar bears:** Although not strictly marine, they are apex predators in Arctic waters, hunting seals.\\n\\n**Learning Resources:**\\n\\n* **World Wildlife Fund (WWF):** [https://www.worldwildlife.org/](https://www.worldwildlife.org/)\\n* **National Geographic:** [https://www.nationalgeographic.com/](https://www.nationalgeographic.com/)\\n* **SeaWorld:** [https://seaworld.com/](https://seaworld.com/) (keep in mind, this is a marine park, so be critical of their practices)\\n\\n**Tips for your research:**\\n\\n* **Choose a specific mammal:** Focusing on one will make your research more manageable.\\n* **Consider their habitat:** Where do they live, and what are the challenges they face in that environment?\\n* **Explore their diet and behavior:** What do they eat, how do they communicate, and how do they reproduce?\\n* **Look into conservation efforts:** What threats do they face, and what is being done to protect them?\\n\\n\\n\\n', additional_kwargs={}, response_metadata={'token_usage': {'completion_tokens': 460, 'prompt_tokens': 43, 'total_tokens': 503, 'completion_time': 0.836363636, 'prompt_time': 0.00163775, 'queue_time': 0.250639949, 'total_time': 0.838001386}, 'model_name': 'gemma2-9b-it', 'system_fingerprint': 'fp_10c08bf97d', 'service_tier': 'on_demand', 'finish_reason': 'stop', 'logprobs': None}, id='run--dcf0f2f4-8614-4f49-8ae6-6914669ea52d-0', usage_metadata={'input_tokens': 43, 'output_tokens': 460, 'total_tokens': 503})"
      ]
     },
     "execution_count": 6,
     "metadata": {},
     "output_type": "execute_result"
    }
   ],
   "source": [
    "from langchain_openai import ChatOpenAI\n",
    "# llm = ChatOpenAI(model=\"gpt-4o\")\n",
    "\n",
    "from langchain_groq import ChatGroq\n",
    "llm=ChatGroq(groq_api_key=GROQ_API_KEY,model='gemma2-9b-it')\n",
    "llm.invoke(messages)"
   ]
  },
  {
   "cell_type": "markdown",
   "id": "fbd1dab8-0af8-4621-8264-ce65065f76ec",
   "metadata": {},
   "source": [
    "We can run our chat model in a simple graph with `MessagesState`."
   ]
  },
  {
   "cell_type": "code",
   "execution_count": 7,
   "id": "bbd8c39c-633b-4176-9cc6-8318e42bb5dd",
   "metadata": {},
   "outputs": [
    {
     "data": {
      "image/png": "[encoded data removed]",
      "text/plain": [
       "<IPython.core.display.Image object>"
      ]
     },
     "metadata": {},
     "output_type": "display_data"
    }
   ],
   "source": [
    "from IPython.display import Image, display\n",
    "from langgraph.graph import MessagesState\n",
    "from langgraph.graph import StateGraph, START, END\n",
    "\n",
    "# Node\n",
    "def chat_model_node(state: MessagesState):\n",
    "    return {\"messages\": llm.invoke(state[\"messages\"])}\n",
    "\n",
    "# Build graph\n",
    "builder = StateGraph(MessagesState)\n",
    "builder.add_node(\"chat_model\", chat_model_node)\n",
    "builder.add_edge(START, \"chat_model\")\n",
    "builder.add_edge(\"chat_model\", END)\n",
    "graph = builder.compile()\n",
    "\n",
    "# View\n",
    "display(Image(graph.get_graph().draw_mermaid_png()))"
   ]
  },
  {
   "cell_type": "code",
   "execution_count": 8,
   "id": "3a5a3e4a-ccfd-4d14-81f1-f0de6e11a1e4",
   "metadata": {},
   "outputs": [
    {
     "name": "stdout",
     "output_type": "stream",
     "text": [
      "==================================\u001b[1m Ai Message \u001b[0m==================================\n",
      "Name: Bot\n",
      "\n",
      "So you said you were researching ocean mammals?\n",
      "================================\u001b[1m Human Message \u001b[0m=================================\n",
      "Name: Lance\n",
      "\n",
      "Yes, I know about whales. But what others should I learn about?\n",
      "==================================\u001b[1m Ai Message \u001b[0m==================================\n",
      "\n",
      "That's great! Whales are amazing, but the ocean is full of fascinating marine mammals beyond them.  \n",
      "\n",
      "Here are some other ocean mammals you could explore:\n",
      "\n",
      "**Pinnipeds (Seals, Sea Lions, Walruses):**\n",
      "\n",
      "* **Seals:**  They come in many shapes and sizes, from the sleek harbor seal to the massive elephant seal. Some are very social, while others are more solitary.\n",
      "* **Sea Lions:**  Known for their playful nature and barking calls, sea lions are often found in large groups.\n",
      "* **Walruses:**  These massive animals have distinctive tusks and use them for hauling themselves onto ice, foraging for clams, and even fighting.\n",
      "\n",
      "**Other Marine Mammals:**\n",
      "\n",
      "* **Dolphins:**  Highly intelligent and social creatures, dolphins are known for their acrobatic leaps and clicks. \n",
      "* **Porpoises:**  Smaller and stockier than dolphins, porpoises are also very intelligent and have a more rounded head.\n",
      "* **Manatees:**  Gentle giants that graze on seagrass, manatees are often called \"sea cows.\"\n",
      "* **Dugongs:**  Similar to manatees, dugongs are found in the Indo-Pacific region and also feed on seagrass.\n",
      "* **Sea otters:**  The smallest marine mammals, sea otters are known for their thick fur and playful antics.\n",
      "\n",
      "**Where to Learn More:**\n",
      "\n",
      "* **National Geographic:** [https://www.nationalgeographic.com/](https://www.nationalgeographic.com/)\n",
      "* **World Wildlife Fund (WWF):** [https://www.worldwildlife.org/](https://www.worldwildlife.org/)\n",
      "* **Ocean Conservancy:** [https://oceanconservancy.org/](https://oceanconservancy.org/)\n",
      "\n",
      "What specifically interests you about ocean mammals? Perhaps knowing that can help me suggest some more focused resources!\n"
     ]
    }
   ],
   "source": [
    "output = graph.invoke({'messages': messages})\n",
    "for m in output['messages']:\n",
    "    m.pretty_print()"
   ]
  },
  {
   "cell_type": "markdown",
   "id": "34c33e63-1ef4-412d-bb10-6a1b9e5b35a7",
   "metadata": {},
   "source": [
    "## Reducer\n",
    "\n",
    "A practical challenge when working with messages is managing long-running conversations. \n",
    "\n",
    "Long-running conversations result in high token usage and latency if we are not careful, because we pass a growing list of messages to the model.\n",
    "\n",
    "We have a few ways to address this.\n",
    "\n",
    "First, recall the trick we saw using `RemoveMessage` and the `add_messages` reducer."
   ]
  },
  {
   "cell_type": "code",
   "execution_count": 9,
   "id": "222c6bc5-bb0e-4a43-80f5-c8ec38d99f3a",
   "metadata": {},
   "outputs": [
    {
     "data": {
      "image/png": "[encoded data removed]",
      "text/plain": [
       "<IPython.core.display.Image object>"
      ]
     },
     "metadata": {},
     "output_type": "display_data"
    }
   ],
   "source": [
    "from langchain_core.messages import RemoveMessage\n",
    "\n",
    "# Nodes\n",
    "def filter_messages(state: MessagesState):\n",
    "    # Delete all but the 2 most recent messages\n",
    "    delete_messages = [RemoveMessage(id=m.id) for m in state[\"messages\"][:-2]]\n",
    "    return {\"messages\": delete_messages}\n",
    "\n",
    "def chat_model_node(state: MessagesState):    \n",
    "    return {\"messages\": [llm.invoke(state[\"messages\"])]}\n",
    "\n",
    "# Build graph\n",
    "builder = StateGraph(MessagesState)\n",
    "builder.add_node(\"filter\", filter_messages)\n",
    "builder.add_node(\"chat_model\", chat_model_node)\n",
    "builder.add_edge(START, \"filter\")\n",
    "builder.add_edge(\"filter\", \"chat_model\")\n",
    "builder.add_edge(\"chat_model\", END)\n",
    "graph = builder.compile()\n",
    "\n",
    "# View\n",
    "display(Image(graph.get_graph().draw_mermaid_png()))"
   ]
  },
  {
   "cell_type": "code",
   "execution_count": 10,
   "id": "95a7c2cc-54ce-43e7-9a90-abf37827d709",
   "metadata": {},
   "outputs": [
    {
     "name": "stdout",
     "output_type": "stream",
     "text": [
      "==================================\u001b[1m Ai Message \u001b[0m==================================\n",
      "Name: Bot\n",
      "\n",
      "So you said you were researching ocean mammals?\n",
      "================================\u001b[1m Human Message \u001b[0m=================================\n",
      "Name: Lance\n",
      "\n",
      "Yes, I know about whales. But what others should I learn about?\n",
      "==================================\u001b[1m Ai Message \u001b[0m==================================\n",
      "\n",
      "That's great! Whales are amazing, but there's a whole world of fascinating ocean mammals beyond them. \n",
      "\n",
      "Here are a few categories and examples to get you started:\n",
      "\n",
      "**Pinnipeds (Seals, Sea Lions, and Walruses)**\n",
      "\n",
      "* **Harbor Seals:** These playful, curious seals are found in coastal waters around the world.\n",
      "* **California Sea Lions:** Known for their barking calls and sleek bodies, they're often seen hauled out on beaches.\n",
      "* **Walruses:** These giants of the Arctic have impressive tusks and spend most of their time on ice floes.\n",
      "\n",
      "**Otters**\n",
      "\n",
      "* **Sea Otters:** The smallest marine mammal, these fluffy creatures are highly social and use tools to crack open shellfish.\n",
      "* **River Otters:** While not strictly ocean dwellers, they're found in coastal rivers and estuaries.\n",
      "\n",
      "**Other Cetaceans (Besides Whales)**\n",
      "\n",
      "* **Dolphins:** Highly intelligent and social creatures, there are many different species of dolphins found in oceans worldwide.\n",
      "* **Porpoises:** Smaller than dolphins with blunt noses, they're often mistaken for dolphins but have unique characteristics.\n",
      "\n",
      "**Manatees and Dugongs**\n",
      "\n",
      "* **Manatees:** These gentle giants are often called \"sea cows\" due to their herbivorous diet.\n",
      "* **Dugongs:** Closely related to manatees, they are found in the Indo-Pacific region and graze on seagrass.\n",
      "\n",
      "**Where to Learn More:**\n",
      "\n",
      "* **Monterey Bay Aquarium:** [https://www.montereybayaquarium.org/](https://www.montereybayaquarium.org/)\n",
      "* **World Wildlife Fund (WWF):** [https://www.worldwildlife.org/](https://www.worldwildlife.org/)\n",
      "* **National Oceanic and Atmospheric Administration (NOAA):** [https://www.noaa.gov/](https://www.noaa.gov/)\n",
      "\n",
      "\n",
      "What specific ocean mammals are you most interested in learning about?\n"
     ]
    }
   ],
   "source": [
    "# Message list with a preamble\n",
    "messages = [AIMessage(\"Hi.\", name=\"Bot\", id=\"1\")]\n",
    "messages.append(HumanMessage(\"Hi.\", name=\"Lance\", id=\"2\"))\n",
    "messages.append(AIMessage(\"So you said you were researching ocean mammals?\", name=\"Bot\", id=\"3\"))\n",
    "messages.append(HumanMessage(\"Yes, I know about whales. But what others should I learn about?\", name=\"Lance\", id=\"4\"))\n",
    "\n",
    "# Invoke\n",
    "output = graph.invoke({'messages': messages})\n",
    "for m in output['messages']:\n",
    "    m.pretty_print()"
   ]
  },
  {
   "cell_type": "markdown",
   "id": "f506457d-014b-4fee-a684-e5edfb4b8f0d",
   "metadata": {},
   "source": [
    "## Filtering messages\n",
    "\n",
    "If you don't need or want to modify the graph state, you can just filter the messages you pass to the chat model.\n",
    "\n",
    "For example, just pass in a filtered list: `llm.invoke(messages[-1:])` to the model."
   ]
  },
  {
   "cell_type": "code",
   "execution_count": 11,
   "id": "22d0b904-7cd6-486b-8948-105bee3d4683",
   "metadata": {},
   "outputs": [
    {
     "data": {
      "image/png": "[encoded data removed]",
      "text/plain": [
       "<IPython.core.display.Image object>"
      ]
     },
     "metadata": {},
     "output_type": "display_data"
    }
   ],
   "source": [
    "# Node\n",
    "def chat_model_node(state: MessagesState):\n",
    "    return {\"messages\": [llm.invoke(state[\"messages\"][-1:])]}\n",
    "\n",
    "# Build graph\n",
    "builder = StateGraph(MessagesState)\n",
    "builder.add_node(\"chat_model\", chat_model_node)\n",
    "builder.add_edge(START, \"chat_model\")\n",
    "builder.add_edge(\"chat_model\", END)\n",
    "graph = builder.compile()\n",
    "\n",
    "# View\n",
    "display(Image(graph.get_graph().draw_mermaid_png()))"
   ]
  },
  {
   "cell_type": "markdown",
   "id": "6f58c6fc-532f-418d-b70a-cfcb3307daf5",
   "metadata": {},
   "source": [
    "Let's take our existing list of messages, append the above LLM response, and append a follow-up question."
   ]
  },
  {
   "cell_type": "code",
   "execution_count": 12,
   "id": "16956015-1dbe-4108-89b5-4209b68b51ca",
   "metadata": {},
   "outputs": [],
   "source": [
    "messages.append(output['messages'][-1])\n",
    "messages.append(HumanMessage(f\"Tell me more about Narwhals!\", name=\"Lance\"))"
   ]
  },
  {
   "cell_type": "code",
   "execution_count": 13,
   "id": "85563415-c085-46a8-a4ac-155df798c54e",
   "metadata": {},
   "outputs": [
    {
     "name": "stdout",
     "output_type": "stream",
     "text": [
      "==================================\u001b[1m Ai Message \u001b[0m==================================\n",
      "Name: Bot\n",
      "\n",
      "Hi.\n",
      "================================\u001b[1m Human Message \u001b[0m=================================\n",
      "Name: Lance\n",
      "\n",
      "Hi.\n",
      "==================================\u001b[1m Ai Message \u001b[0m==================================\n",
      "Name: Bot\n",
      "\n",
      "So you said you were researching ocean mammals?\n",
      "================================\u001b[1m Human Message \u001b[0m=================================\n",
      "Name: Lance\n",
      "\n",
      "Yes, I know about whales. But what others should I learn about?\n",
      "==================================\u001b[1m Ai Message \u001b[0m==================================\n",
      "\n",
      "That's great! Whales are amazing, but there's a whole world of fascinating ocean mammals beyond them. \n",
      "\n",
      "Here are a few categories and examples to get you started:\n",
      "\n",
      "**Pinnipeds (Seals, Sea Lions, and Walruses)**\n",
      "\n",
      "* **Harbor Seals:** These playful, curious seals are found in coastal waters around the world.\n",
      "* **California Sea Lions:** Known for their barking calls and sleek bodies, they're often seen hauled out on beaches.\n",
      "* **Walruses:** These giants of the Arctic have impressive tusks and spend most of their time on ice floes.\n",
      "\n",
      "**Otters**\n",
      "\n",
      "* **Sea Otters:** The smallest marine mammal, these fluffy creatures are highly social and use tools to crack open shellfish.\n",
      "* **River Otters:** While not strictly ocean dwellers, they're found in coastal rivers and estuaries.\n",
      "\n",
      "**Other Cetaceans (Besides Whales)**\n",
      "\n",
      "* **Dolphins:** Highly intelligent and social creatures, there are many different species of dolphins found in oceans worldwide.\n",
      "* **Porpoises:** Smaller than dolphins with blunt noses, they're often mistaken for dolphins but have unique characteristics.\n",
      "\n",
      "**Manatees and Dugongs**\n",
      "\n",
      "* **Manatees:** These gentle giants are often called \"sea cows\" due to their herbivorous diet.\n",
      "* **Dugongs:** Closely related to manatees, they are found in the Indo-Pacific region and graze on seagrass.\n",
      "\n",
      "**Where to Learn More:**\n",
      "\n",
      "* **Monterey Bay Aquarium:** [https://www.montereybayaquarium.org/](https://www.montereybayaquarium.org/)\n",
      "* **World Wildlife Fund (WWF):** [https://www.worldwildlife.org/](https://www.worldwildlife.org/)\n",
      "* **National Oceanic and Atmospheric Administration (NOAA):** [https://www.noaa.gov/](https://www.noaa.gov/)\n",
      "\n",
      "\n",
      "What specific ocean mammals are you most interested in learning about?\n",
      "================================\u001b[1m Human Message \u001b[0m=================================\n",
      "Name: Lance\n",
      "\n",
      "Tell me more about Narwhals!\n"
     ]
    }
   ],
   "source": [
    "for m in messages:\n",
    "    m.pretty_print()"
   ]
  },
  {
   "cell_type": "code",
   "execution_count": 14,
   "id": "23349705-a059-47b5-9760-d8f64e687393",
   "metadata": {},
   "outputs": [
    {
     "name": "stdout",
     "output_type": "stream",
     "text": [
      "==================================\u001b[1m Ai Message \u001b[0m==================================\n",
      "Name: Bot\n",
      "\n",
      "Hi.\n",
      "================================\u001b[1m Human Message \u001b[0m=================================\n",
      "Name: Lance\n",
      "\n",
      "Hi.\n",
      "==================================\u001b[1m Ai Message \u001b[0m==================================\n",
      "Name: Bot\n",
      "\n",
      "So you said you were researching ocean mammals?\n",
      "================================\u001b[1m Human Message \u001b[0m=================================\n",
      "Name: Lance\n",
      "\n",
      "Yes, I know about whales. But what others should I learn about?\n",
      "==================================\u001b[1m Ai Message \u001b[0m==================================\n",
      "\n",
      "That's great! Whales are amazing, but there's a whole world of fascinating ocean mammals beyond them. \n",
      "\n",
      "Here are a few categories and examples to get you started:\n",
      "\n",
      "**Pinnipeds (Seals, Sea Lions, and Walruses)**\n",
      "\n",
      "* **Harbor Seals:** These playful, curious seals are found in coastal waters around the world.\n",
      "* **California Sea Lions:** Known for their barking calls and sleek bodies, they're often seen hauled out on beaches.\n",
      "* **Walruses:** These giants of the Arctic have impressive tusks and spend most of their time on ice floes.\n",
      "\n",
      "**Otters**\n",
      "\n",
      "* **Sea Otters:** The smallest marine mammal, these fluffy creatures are highly social and use tools to crack open shellfish.\n",
      "* **River Otters:** While not strictly ocean dwellers, they're found in coastal rivers and estuaries.\n",
      "\n",
      "**Other Cetaceans (Besides Whales)**\n",
      "\n",
      "* **Dolphins:** Highly intelligent and social creatures, there are many different species of dolphins found in oceans worldwide.\n",
      "* **Porpoises:** Smaller than dolphins with blunt noses, they're often mistaken for dolphins but have unique characteristics.\n",
      "\n",
      "**Manatees and Dugongs**\n",
      "\n",
      "* **Manatees:** These gentle giants are often called \"sea cows\" due to their herbivorous diet.\n",
      "* **Dugongs:** Closely related to manatees, they are found in the Indo-Pacific region and graze on seagrass.\n",
      "\n",
      "**Where to Learn More:**\n",
      "\n",
      "* **Monterey Bay Aquarium:** [https://www.montereybayaquarium.org/](https://www.montereybayaquarium.org/)\n",
      "* **World Wildlife Fund (WWF):** [https://www.worldwildlife.org/](https://www.worldwildlife.org/)\n",
      "* **National Oceanic and Atmospheric Administration (NOAA):** [https://www.noaa.gov/](https://www.noaa.gov/)\n",
      "\n",
      "\n",
      "What specific ocean mammals are you most interested in learning about?\n",
      "================================\u001b[1m Human Message \u001b[0m=================================\n",
      "Name: Lance\n",
      "\n",
      "Tell me more about Narwhals!\n",
      "==================================\u001b[1m Ai Message \u001b[0m==================================\n",
      "\n",
      "Narwhals are truly fascinating creatures! They are medium-sized whales known for the long, spiraled tusk protruding from the upper left jaw of the males. \n",
      "\n",
      "Here's some more information about them:\n",
      "\n",
      "**Appearance:**\n",
      "\n",
      "* **Size:** Adults can reach up to 16 feet in length and weigh up to 3.5 tons.\n",
      "* **Color:** They have a mostly gray body with a white underside. \n",
      "* **Tusk:** The iconic tusk is actually a modified tooth, and only males have it. It can grow up to 10 feet long and is thought to be used for display, attracting mates, and possibly sensing changes in the environment.\n",
      "\n",
      "**Habitat and Distribution:**\n",
      "\n",
      "* **Arctic Regions:** Narwhals are found in the Arctic waters of Canada, Greenland, Norway, Russia, and the United States (Alaska).\n",
      "* **Ice-Covered Waters:** They prefer to live in areas with sea ice and spend most of their time in the ocean, diving deep to find food.\n",
      "\n",
      "**Diet and Behavior:**\n",
      "\n",
      "* **Carnivorous:** Narwhals feed on a variety of fish and squid.\n",
      "* **Social Animals:** They live in pods of up to 20 individuals, although larger groups can sometimes form.\n",
      "* **Vocal Communication:** Narwhals use a variety of clicks, whistles, and pulsed calls to communicate with each other.\n",
      "\n",
      "**Conservation Status:**\n",
      "\n",
      "* **Near Threatened:** Narwhals are listed as \"Near Threatened\" by the International Union for Conservation of Nature (IUCN).\n",
      "* **Threats:** Climate change, habitat loss, oil and gas exploration, and hunting are all threats to narwhal populations.\n",
      "\n",
      "**Unique Characteristics:**\n",
      "\n",
      "* **Tusks:** The narwhal's tusk is truly unique, and scientists are still learning about its purpose.\n",
      "* **Deep Divers:** They can dive to depths of over 5,000 feet and hold their breath for up to 25 minutes.\n",
      "* **High-Frequency Hearing:** Narwhals have excellent hearing and can detect prey at great distances.\n",
      "\n",
      "\n",
      "Let me know if you have any other questions about these amazing creatures!\n"
     ]
    }
   ],
   "source": [
    "# Invoke, using message filtering\n",
    "output = graph.invoke({'messages': messages})\n",
    "for m in output['messages']:\n",
    "    m.pretty_print()"
   ]
  },
  {
   "cell_type": "markdown",
   "id": "42e1d8d2-e297-4d78-b54c-d12b3c866745",
   "metadata": {},
   "source": [
    "The state has all of the mesages.\n",
    "\n",
    "But, let's look at the LangSmith trace to see that the model invocation only uses the last message:\n",
    "\n",
    "https://smith.langchain.com/public/75aca3ce-ef19-4b92-94be-0178c7a660d9/r"
   ]
  },
  {
   "cell_type": "markdown",
   "id": "fc40d930-3c1f-47fe-8d2a-ce174873353c",
   "metadata": {},
   "source": [
    "## Trim messages\n",
    "\n",
    "Another approach is to [trim messages](https://python.langchain.com/v0.2/docs/how_to/trim_messages/#getting-the-last-max_tokens-tokens), based upon a set number of tokens. \n",
    "\n",
    "This restricts the message history to a specified number of tokens.\n",
    "\n",
    "While filtering only returns a post-hoc subset of the messages between agents, trimming restricts the number of tokens that a chat model can use to respond.\n",
    "\n",
    "See the `trim_messages` below."
   ]
  },
  {
   "cell_type": "code",
   "execution_count": 15,
   "id": "0e54855c",
   "metadata": {},
   "outputs": [],
   "source": [
    "import tiktoken\n",
    "\n",
    "# Load the tokenizer for GPT models (can be adjusted to your model)\n",
    "encoding = tiktoken.encoding_for_model(\"gpt-3.5-turbo\")\n",
    "\n",
    "def count_tokens(messages):\n",
    "    total_tokens = 0\n",
    "    for msg in messages:\n",
    "        # Use attribute access instead of .get()\n",
    "        content = msg.content if hasattr(msg, \"content\") else str(msg)\n",
    "        total_tokens += len(encoding.encode(content))\n",
    "    return total_tokens\n"
   ]
  },
  {
   "cell_type": "code",
   "execution_count": 16,
   "id": "2ff99b81-cf03-4cc2-b44f-44829a73e1fd",
   "metadata": {},
   "outputs": [
    {
     "data": {
      "image/png": "[encoded data removed]",
      "text/plain": [
       "<IPython.core.display.Image object>"
      ]
     },
     "metadata": {},
     "output_type": "display_data"
    }
   ],
   "source": [
    "from langchain_core.messages import trim_messages\n",
    "\n",
    "# Node\n",
    "def chat_model_node(state: MessagesState):\n",
    "    messages = trim_messages(\n",
    "            state[\"messages\"],\n",
    "            max_tokens=100,\n",
    "            strategy=\"last\",\n",
    "            token_counter=count_tokens,\n",
    "            allow_partial=False,\n",
    "        )\n",
    "    return {\"messages\": [llm.invoke(messages)]}\n",
    "\n",
    "# Build graph\n",
    "builder = StateGraph(MessagesState)\n",
    "builder.add_node(\"chat_model\", chat_model_node)\n",
    "builder.add_edge(START, \"chat_model\")\n",
    "builder.add_edge(\"chat_model\", END)\n",
    "graph = builder.compile()\n",
    "\n",
    "# View\n",
    "display(Image(graph.get_graph().draw_mermaid_png()))"
   ]
  },
  {
   "cell_type": "code",
   "execution_count": 17,
   "id": "24df63ac-da29-4874-b3df-7e390e97cc8a",
   "metadata": {},
   "outputs": [],
   "source": [
    "messages.append(output['messages'][-1])\n",
    "messages.append(HumanMessage(f\"Tell me where Orcas live!\", name=\"Lance\"))"
   ]
  },
  {
   "cell_type": "code",
   "execution_count": 18,
   "id": "6d9d8971-c75c-43ca-a209-eb1d07b2ead0",
   "metadata": {},
   "outputs": [
    {
     "data": {
      "text/plain": [
       "[HumanMessage(content='Tell me where Orcas live!', additional_kwargs={}, response_metadata={}, name='Lance')]"
      ]
     },
     "execution_count": 18,
     "metadata": {},
     "output_type": "execute_result"
    }
   ],
   "source": [
    "# Example of trimming messages\n",
    "trim_messages(\n",
    "            messages,\n",
    "            max_tokens=100,\n",
    "            strategy=\"last\",\n",
    "            token_counter=count_tokens,\n",
    "            allow_partial=False\n",
    "        )"
   ]
  },
  {
   "cell_type": "code",
   "execution_count": 19,
   "id": "ed70a269-a869-4fa0-a1df-29736a432c51",
   "metadata": {},
   "outputs": [],
   "source": [
    "# Invoke, using message trimming in the chat_model_node \n",
    "messages_out_trim = graph.invoke({'messages': messages})"
   ]
  },
  {
   "cell_type": "markdown",
   "id": "38b3db67-380e-46b5-9a6a-20100ba52008",
   "metadata": {},
   "source": [
    "Let's look at the LangSmith trace to see the model invocation:\n",
    "\n",
    "https://smith.langchain.com/public/b153f7e9-f1a5-4d60-8074-f0d7ab5b42ef/r"
   ]
  },
  {
   "cell_type": "code",
   "execution_count": 20,
   "id": "488742ed",
   "metadata": {},
   "outputs": [
    {
     "data": {
      "text/plain": [
       "{'messages': [AIMessage(content='Hi.', additional_kwargs={}, response_metadata={}, name='Bot', id='1'),\n",
       "  HumanMessage(content='Hi.', additional_kwargs={}, response_metadata={}, name='Lance', id='2'),\n",
       "  AIMessage(content='So you said you were researching ocean mammals?', additional_kwargs={}, response_metadata={}, name='Bot', id='3'),\n",
       "  HumanMessage(content='Yes, I know about whales. But what others should I learn about?', additional_kwargs={}, response_metadata={}, name='Lance', id='4'),\n",
       "  AIMessage(content='That\\'s great! Whales are amazing, but there\\'s a whole world of fascinating ocean mammals beyond them. \\n\\nHere are a few categories and examples to get you started:\\n\\n**Pinnipeds (Seals, Sea Lions, and Walruses)**\\n\\n* **Harbor Seals:** These playful, curious seals are found in coastal waters around the world.\\n* **California Sea Lions:** Known for their barking calls and sleek bodies, they\\'re often seen hauled out on beaches.\\n* **Walruses:** These giants of the Arctic have impressive tusks and spend most of their time on ice floes.\\n\\n**Otters**\\n\\n* **Sea Otters:** The smallest marine mammal, these fluffy creatures are highly social and use tools to crack open shellfish.\\n* **River Otters:** While not strictly ocean dwellers, they\\'re found in coastal rivers and estuaries.\\n\\n**Other Cetaceans (Besides Whales)**\\n\\n* **Dolphins:** Highly intelligent and social creatures, there are many different species of dolphins found in oceans worldwide.\\n* **Porpoises:** Smaller than dolphins with blunt noses, they\\'re often mistaken for dolphins but have unique characteristics.\\n\\n**Manatees and Dugongs**\\n\\n* **Manatees:** These gentle giants are often called \"sea cows\" due to their herbivorous diet.\\n* **Dugongs:** Closely related to manatees, they are found in the Indo-Pacific region and graze on seagrass.\\n\\n**Where to Learn More:**\\n\\n* **Monterey Bay Aquarium:** [https://www.montereybayaquarium.org/](https://www.montereybayaquarium.org/)\\n* **World Wildlife Fund (WWF):** [https://www.worldwildlife.org/](https://www.worldwildlife.org/)\\n* **National Oceanic and Atmospheric Administration (NOAA):** [https://www.noaa.gov/](https://www.noaa.gov/)\\n\\n\\nWhat specific ocean mammals are you most interested in learning about?\\n', additional_kwargs={}, response_metadata={'token_usage': {'completion_tokens': 421, 'prompt_tokens': 43, 'total_tokens': 464, 'completion_time': 0.765454545, 'prompt_time': 0.00166783, 'queue_time': 0.249878819, 'total_time': 0.767122375}, 'model_name': 'gemma2-9b-it', 'system_fingerprint': 'fp_10c08bf97d', 'service_tier': 'on_demand', 'finish_reason': 'stop', 'logprobs': None}, id='run--de277914-d3e4-4778-848a-8ed73aecbd2e-0', usage_metadata={'input_tokens': 43, 'output_tokens': 421, 'total_tokens': 464}),\n",
       "  HumanMessage(content='Tell me more about Narwhals!', additional_kwargs={}, response_metadata={}, name='Lance', id='7b26cdc8-339d-423f-8fc8-2ec633fcc416'),\n",
       "  AIMessage(content='Narwhals are truly fascinating creatures! They are medium-sized whales known for the long, spiraled tusk protruding from the upper left jaw of the males. \\n\\nHere\\'s some more information about them:\\n\\n**Appearance:**\\n\\n* **Size:** Adults can reach up to 16 feet in length and weigh up to 3.5 tons.\\n* **Color:** They have a mostly gray body with a white underside. \\n* **Tusk:** The iconic tusk is actually a modified tooth, and only males have it. It can grow up to 10 feet long and is thought to be used for display, attracting mates, and possibly sensing changes in the environment.\\n\\n**Habitat and Distribution:**\\n\\n* **Arctic Regions:** Narwhals are found in the Arctic waters of Canada, Greenland, Norway, Russia, and the United States (Alaska).\\n* **Ice-Covered Waters:** They prefer to live in areas with sea ice and spend most of their time in the ocean, diving deep to find food.\\n\\n**Diet and Behavior:**\\n\\n* **Carnivorous:** Narwhals feed on a variety of fish and squid.\\n* **Social Animals:** They live in pods of up to 20 individuals, although larger groups can sometimes form.\\n* **Vocal Communication:** Narwhals use a variety of clicks, whistles, and pulsed calls to communicate with each other.\\n\\n**Conservation Status:**\\n\\n* **Near Threatened:** Narwhals are listed as \"Near Threatened\" by the International Union for Conservation of Nature (IUCN).\\n* **Threats:** Climate change, habitat loss, oil and gas exploration, and hunting are all threats to narwhal populations.\\n\\n**Unique Characteristics:**\\n\\n* **Tusks:** The narwhal\\'s tusk is truly unique, and scientists are still learning about its purpose.\\n* **Deep Divers:** They can dive to depths of over 5,000 feet and hold their breath for up to 25 minutes.\\n* **High-Frequency Hearing:** Narwhals have excellent hearing and can detect prey at great distances.\\n\\n\\nLet me know if you have any other questions about these amazing creatures!\\n', additional_kwargs={}, response_metadata={'token_usage': {'completion_tokens': 450, 'prompt_tokens': 17, 'total_tokens': 467, 'completion_time': 0.818181818, 'prompt_time': 0.001256619, 'queue_time': 0.2501029, 'total_time': 0.819438437}, 'model_name': 'gemma2-9b-it', 'system_fingerprint': 'fp_10c08bf97d', 'service_tier': 'on_demand', 'finish_reason': 'stop', 'logprobs': None}, id='run--22bd3ab7-bd94-41a0-a988-3cb8573d9d3f-0', usage_metadata={'input_tokens': 17, 'output_tokens': 450, 'total_tokens': 467}),\n",
       "  HumanMessage(content='Tell me where Orcas live!', additional_kwargs={}, response_metadata={}, name='Lance', id='608d724c-94e6-4a00-8409-7749fe97c6dc'),\n",
       "  AIMessage(content=\"Orcas, also known as killer whales, are found in **all oceans around the world**. \\n\\nThey are highly adaptable and can be found in a wide range of habitats, from **cold, polar waters to warm, tropical seas**. \\n\\nHere are some specific areas where orcas are commonly found:\\n\\n* **North Pacific Ocean:**  This region is home to a large population of orcas, including the resident pods that are known for their complex social structures and foraging strategies.\\n\\n* **North Atlantic Ocean:** Orcas are also found in the North Atlantic, where they hunt a variety of prey, including fish, seals, and even larger whales.\\n* **Southern Ocean:**  Around Antarctica, orcas are a common sight, preying on penguins, seals, and other marine mammals.\\n* **Indian Ocean:** Orcas inhabit the waters of the Indian Ocean, where they feed on fish, squid, and dolphins.\\n* **Mediterranean Sea:** Although their numbers are smaller, orcas can also be found in the Mediterranean Sea.\\n\\n\\nLet me know if you'd like to know more about orcas in a specific region!\\n\", additional_kwargs={}, response_metadata={'token_usage': {'completion_tokens': 235, 'prompt_tokens': 16, 'total_tokens': 251, 'completion_time': 0.427272727, 'prompt_time': 0.001272609, 'queue_time': 0.24961788, 'total_time': 0.428545336}, 'model_name': 'gemma2-9b-it', 'system_fingerprint': 'fp_10c08bf97d', 'service_tier': 'on_demand', 'finish_reason': 'stop', 'logprobs': None}, id='run--ae353c45-bab2-43c9-b677-46861412d57a-0', usage_metadata={'input_tokens': 16, 'output_tokens': 235, 'total_tokens': 251})]}"
      ]
     },
     "execution_count": 20,
     "metadata": {},
     "output_type": "execute_result"
    }
   ],
   "source": [
    "messages_out_trim"
   ]
  },
  {
   "cell_type": "markdown",
   "id": "2f51000e",
   "metadata": {},
   "source": []
  }
 ],
 "metadata": {
  "kernelspec": {
   "display_name": "venv",
   "language": "python",
   "name": "python3"
  },
  "language_info": {
   "codemirror_mode": {
    "name": "ipython",
    "version": 3
   },
   "file_extension": ".py",
   "mimetype": "text/x-python",
   "name": "python",
   "nbconvert_exporter": "python",
   "pygments_lexer": "ipython3",
   "version": "3.11.0"
  }
 },
 "nbformat": 4,
 "nbformat_minor": 5
}
